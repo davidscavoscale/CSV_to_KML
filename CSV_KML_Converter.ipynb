{
 "cells": [
  {
   "cell_type": "markdown",
   "id": "60c19866-5cb4-4b78-b2d5-842d7ece5420",
   "metadata": {},
   "source": [
    "### Convert CSV into KML"
   ]
  },
  {
   "cell_type": "code",
   "execution_count": 1,
   "id": "16a6deb0-ada3-4dd3-848c-71a5fe367b01",
   "metadata": {},
   "outputs": [],
   "source": [
    "# Imports. If any fail to load, you may need to re/install them\n",
    "import pandas as pd\n",
    "import geopandas as gpd\n",
    "from shapely.geometry import Point\n",
    "import matplotlib.pyplot as plt\n",
    "import fiona"
   ]
  },
  {
   "cell_type": "code",
   "execution_count": 2,
   "id": "fc28afb7-f40a-40db-a363-64db47345afb",
   "metadata": {},
   "outputs": [],
   "source": [
    "# Read in the CSV you want to convert\n",
    "df = pd.read_csv('Spratly_Islands_example.csv')"
   ]
  },
  {
   "cell_type": "code",
   "execution_count": 3,
   "id": "4e5c145d-c91b-41fa-b73a-933e9c78b0af",
   "metadata": {},
   "outputs": [],
   "source": [
    "# Set the name you would like to export your KML as\n",
    "export_name = 'Spratly_Islands_Example'"
   ]
  },
  {
   "cell_type": "code",
   "execution_count": 4,
   "id": "f90dee85-6e98-4ded-b16a-c3c4a2b02795",
   "metadata": {},
   "outputs": [],
   "source": [
    "# Note this example is presuming the CSV has \"Latitude\" and \"Longitude\" fields; if not, would need to modify. \n",
    "df['Coordinates'] = list(zip(df.Longitude, df.Latitude))"
   ]
  },
  {
   "cell_type": "code",
   "execution_count": 5,
   "id": "471530ca-268d-43c4-9ffe-71fea6d86c4c",
   "metadata": {},
   "outputs": [],
   "source": [
    "# Run this to convert to geodataframe and then export as KML\n",
    "df['Coordinates'] = df['Coordinates'].apply(Point)\n",
    "gdf = gpd.GeoDataFrame(df, geometry = 'Coordinates')\n",
    "\n",
    "fiona.supported_drivers['KML'] = 'rw'\n",
    "gdf.to_file('{}.kml'.format(export_name), driver='KML')"
   ]
  }
 ],
 "metadata": {
  "kernelspec": {
   "display_name": "Python 3 (ipykernel)",
   "language": "python",
   "name": "python3"
  },
  "language_info": {
   "codemirror_mode": {
    "name": "ipython",
    "version": 3
   },
   "file_extension": ".py",
   "mimetype": "text/x-python",
   "name": "python",
   "nbconvert_exporter": "python",
   "pygments_lexer": "ipython3",
   "version": "3.11.4"
  }
 },
 "nbformat": 4,
 "nbformat_minor": 5
}
